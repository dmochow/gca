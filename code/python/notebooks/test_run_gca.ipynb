{
 "cells": [
  {
   "cell_type": "markdown",
   "source": [
    "## TODO:\n",
    "- implement alternating minimization scheme: gctr_v, gctr_w\n",
    "- implement search for multiple pairs"
   ],
   "metadata": {
    "collapsed": false
   }
  },
  {
   "cell_type": "code",
   "execution_count": 1,
   "outputs": [],
   "source": [
    "import numpy as np\n",
    "import scipy.optimize\n",
    "import scipy.io as sio\n",
    "from scipy.optimize import minimize, NonlinearConstraint\n",
    "import matplotlib.pyplot as plt\n",
    "from gca import phi_f, phi_r, gc_block_covariance, nlcv, nlcw, gca_obj"
   ],
   "metadata": {
    "collapsed": false
   }
  },
  {
   "cell_type": "markdown",
   "source": [
    "## Bring in synthetic VAR data"
   ],
   "metadata": {
    "collapsed": false
   }
  },
  {
   "cell_type": "code",
   "execution_count": 2,
   "outputs": [],
   "source": [
    "import scipy\n",
    "x = scipy.io.loadmat('../Xtest3.mat')['x']\n",
    "stats = scipy.io.loadmat('../Xtest3.mat')['stats']\n",
    "xr = np.flipud(x)\n",
    "\n",
    "A = stats['A'][0][0]\n",
    "D=4\n",
    "L=3"
   ],
   "metadata": {
    "collapsed": false
   }
  },
  {
   "cell_type": "code",
   "execution_count": 3,
   "outputs": [],
   "source": [
    "blkR1, Rtilde = gc_block_covariance(x,L) # forward time\n",
    "blkR1r, Rtilder = gc_block_covariance(xr,L) # reverse time"
   ],
   "metadata": {
    "collapsed": false
   }
  },
  {
   "cell_type": "markdown",
   "source": [
    "## Evaluate GCA objective with ground-truth spatial filters\n",
    "s1 is the driving signal (recovered by wtrue)\n",
    "s2 is the driven signal (recovered by vtrue)"
   ],
   "metadata": {
    "collapsed": false
   }
  },
  {
   "cell_type": "code",
   "execution_count": 4,
   "outputs": [],
   "source": [
    "pinvA=np.linalg.pinv(A.T)\n",
    "wtrue=pinvA[:,0]\n",
    "vtrue=pinvA[:,1]\n",
    "x_gt=np.concatenate( ( vtrue , wtrue ) ,axis=0 )"
   ],
   "metadata": {
    "collapsed": false
   }
  },
  {
   "cell_type": "code",
   "execution_count": 5,
   "outputs": [
    {
     "data": {
      "text/plain": "array([[-0.12002387]])"
     },
     "execution_count": 5,
     "metadata": {},
     "output_type": "execute_result"
    }
   ],
   "source": [
    "gca_obj(x_gt, blkR1, Rtilde, blkR1r, Rtilder)"
   ],
   "metadata": {
    "collapsed": false
   }
  },
  {
   "cell_type": "markdown",
   "source": [
    "## Prepare non-linear unit-norm constraint for GCA optimization"
   ],
   "metadata": {
    "collapsed": false
   }
  },
  {
   "cell_type": "code",
   "execution_count": 6,
   "outputs": [],
   "source": [
    "#nlcv = scipy.optimize.NonlinearConstraint(lambda x: x.T@x, 1, 1)\n",
    "#nlcw = scipy.optimize.NonlinearConstraint(lambda x: x.T@x, 1, 1)\n",
    "\n",
    "con1 = scipy.optimize.NonlinearConstraint(nlcv, 1, 1)\n",
    "con2 = scipy.optimize.NonlinearConstraint(nlcw, 1, 1)"
   ],
   "metadata": {
    "collapsed": false
   }
  },
  {
   "cell_type": "markdown",
   "source": [
    "## Run the GCA optimizer"
   ],
   "metadata": {
    "collapsed": false
   }
  },
  {
   "cell_type": "code",
   "execution_count": 7,
   "outputs": [
    {
     "name": "stderr",
     "output_type": "stream",
     "text": [
      "/Users/jacekdmochowski/miniconda3/envs/james_tf/lib/python3.10/site-packages/scipy/optimize/_trustregion_constr/projections.py:181: UserWarning: Singular Jacobian matrix. Using SVD decomposition to perform the factorizations.\n",
      "  warn('Singular Jacobian matrix. Using SVD decomposition to ' +\n",
      "/Users/jacekdmochowski/miniconda3/envs/james_tf/lib/python3.10/site-packages/scipy/optimize/_hessian_update_strategy.py:182: UserWarning: delta_grad == 0.0. Check if the approximated function is linear. If the function is linear better results can be obtained by defining the Hessian as zero instead of using quasi-Newton approximations.\n",
      "  warn('delta_grad == 0.0. Check if the approximated '\n"
     ]
    }
   ],
   "source": [
    "optres = minimize(gca_obj, 0.01*np.random.randn(2*D,), args=( (blkR1,Rtilde,blkR1r,Rtilder) ) , method='trust-constr', constraints=[scipy.optimize.NonlinearConstraint(nlcv, 1, 1),scipy.optimize.NonlinearConstraint(nlcw, 1, 1)])"
   ],
   "metadata": {
    "collapsed": false
   }
  },
  {
   "cell_type": "code",
   "execution_count": 8,
   "outputs": [
    {
     "data": {
      "text/plain": "array([[-0.12084052]])"
     },
     "execution_count": 8,
     "metadata": {},
     "output_type": "execute_result"
    }
   ],
   "source": [
    "gca_obj(optres.x,blkR1,Rtilde,blkR1r,Rtilder)"
   ],
   "metadata": {
    "collapsed": false
   }
  },
  {
   "cell_type": "code",
   "execution_count": 9,
   "outputs": [],
   "source": [
    "vstar=optres.x[0:D]\n",
    "wstar=optres.x[D:2*D+1]"
   ],
   "metadata": {
    "collapsed": false
   }
  },
  {
   "cell_type": "code",
   "execution_count": 10,
   "outputs": [
    {
     "data": {
      "text/plain": "<StemContainer object of 3 artists>"
     },
     "execution_count": 10,
     "metadata": {},
     "output_type": "execute_result"
    },
    {
     "data": {
      "text/plain": "<Figure size 640x480 with 4 Axes>",
      "image/png": "[encoded data removed]"
     },
     "metadata": {},
     "output_type": "display_data"
    }
   ],
   "source": [
    "fig, ax = plt.subplots(2,2)\n",
    "ax[0,0].stem(vtrue)\n",
    "ax[0,1].stem(vstar)\n",
    "ax[1,0].stem(wtrue)\n",
    "ax[1,1].stem(wstar)"
   ],
   "metadata": {
    "collapsed": false
   }
  },
  {
   "cell_type": "code",
   "execution_count": 11,
   "outputs": [
    {
     "data": {
      "text/plain": "(array([0.77974089, 0.00796858, 0.01509986]),\n array([1.00000000e+00, 2.45775074e-16, 2.26972804e-16]))"
     },
     "execution_count": 11,
     "metadata": {},
     "output_type": "execute_result"
    }
   ],
   "source": [
    "wstar.T@A, wtrue.T@A"
   ],
   "metadata": {
    "collapsed": false
   }
  },
  {
   "cell_type": "code",
   "execution_count": 12,
   "outputs": [
    {
     "data": {
      "text/plain": "(array([-0.0003691 ,  0.00925121, -0.00039535]),\n array([ 1.18650568e-16,  1.00000000e+00, -1.48052910e-16]))"
     },
     "execution_count": 12,
     "metadata": {},
     "output_type": "execute_result"
    }
   ],
   "source": [
    "vstar.T@A, vtrue.T@A"
   ],
   "metadata": {
    "collapsed": false
   }
  },
  {
   "cell_type": "markdown",
   "source": [
    "Code for generating VAR data is below"
   ],
   "metadata": {
    "collapsed": false
   }
  },
  {
   "cell_type": "code",
   "execution_count": 13,
   "outputs": [],
   "source": [
    "#B = np.array([[0.9, 0], [-0.2, 0.8]])\n",
    "\n",
    "#D=x.shape[0] # of sensors\n",
    "#M=2 # of sources\n",
    "#L=1 # max lag of AR model\n",
    "#T=50000 # of time samples\n",
    "#noisepwr=1\n",
    "#A = np.random.rand(D,M) # mixing matrix\n",
    "#sensornoisepwr=0.1\n",
    "\n",
    "# latent sources\n",
    "#s = np.zeros(shape=(M,T))\n",
    "#s[:,0:L] = np.random.randn(M,L)\n",
    "#sinn = noisepwr*np.random.randn(M,T)"
   ],
   "metadata": {
    "collapsed": false
   }
  },
  {
   "cell_type": "code",
   "execution_count": 14,
   "outputs": [],
   "source": [
    "#for t in range(L,T):\n",
    "#    s[:,t] = B@s[:,t-1] + sinn[:,t]\n",
    "#x = A@s + sensornoisepwr*np.random.randn(D,T)"
   ],
   "metadata": {
    "collapsed": false
   }
  }
 ],
 "metadata": {
  "kernelspec": {
   "display_name": "Python 3",
   "language": "python",
   "name": "python3"
  },
  "language_info": {
   "codemirror_mode": {
    "name": "ipython",
    "version": 2
   },
   "file_extension": ".py",
   "mimetype": "text/x-python",
   "name": "python",
   "nbconvert_exporter": "python",
   "pygments_lexer": "ipython2",
   "version": "2.7.6"
  }
 },
 "nbformat": 4,
 "nbformat_minor": 0
}
