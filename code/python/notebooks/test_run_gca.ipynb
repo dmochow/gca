{
 "cells": [
  {
   "cell_type": "code",
   "execution_count": 1,
   "outputs": [],
   "source": [
    "import numpy as np\n",
    "import scipy\n",
    "import scipy.optimize\n",
    "import scipy.io as sio\n",
    "from scipy.optimize import minimize, NonlinearConstraint\n",
    "import matplotlib.pyplot as plt\n",
    "from gca import gc_block_covariance, gca_obj, gca_obj_v, gca_obj_w, unit_norm"
   ],
   "metadata": {
    "collapsed": false,
    "ExecuteTime": {
     "end_time": "2023-12-02T21:39:56.738667Z",
     "start_time": "2023-12-02T21:39:56.381509Z"
    }
   }
  },
  {
   "cell_type": "code",
   "execution_count": 2,
   "outputs": [],
   "source": [
    "## Generate VAR process\n",
    "L=3 # VAR model order\n",
    "P=2 # number of pairs that we will ask GCA to compute\n",
    "K=3 # number of latent sources\n",
    "D=4 # number of sensors\n",
    "N=5000 # number of time points\n",
    "sigma_inn=1 # standard deviation of innovation process\n",
    "sigma_sensor=0.01 # standard deviation of additive noise"
   ],
   "metadata": {
    "collapsed": false
   }
  },
  {
   "cell_type": "code",
   "execution_count": 3,
   "outputs": [
    {
     "data": {
      "text/plain": "(3, 3, 3)"
     },
     "execution_count": 3,
     "metadata": {},
     "output_type": "execute_result"
    }
   ],
   "source": [
    "## Define VAR matrix of latent sources\n",
    "r1=0.9\n",
    "theta1=40/120*2*np.pi\n",
    "r2=0.7\n",
    "theta2=10/120*2*np.pi\n",
    "r3=0.8\n",
    "theta3=50/120*2*np.pi\n",
    "\n",
    "B = np.zeros(shape=(K,K,L))\n",
    "\n",
    "#create the VAR system matrix here\n",
    "B[:,:,0] = [ [2*r1*np.cos(theta1), 0, 0], [-0.356, 2*r2*np.cos(theta2), 0], [0, -0.3098, 2*r3*np.cos(theta3)] ]\n",
    "B[:,:,1]= [ [-r1**2, 0, 0], [0.7136, -r2**2, 0], [0, 0.5, -r3**2] ]\n",
    "B[:,:,2] = [ [0, 0, 0], [-0.356, 0, 0], [0, -0.3098, 0] ]\n",
    "\n",
    "B.shape"
   ],
   "metadata": {
    "collapsed": false
   }
  },
  {
   "cell_type": "code",
   "execution_count": 4,
   "outputs": [],
   "source": [
    "# generate the dynamics of the latent sources\n",
    "S = np.zeros(shape=(K,N))\n",
    "S[:,0:L] = np.random.randn(K,L)\n",
    "for n in range(L,N):\n",
    "    for p in range(0,L):\n",
    "        S[:,n]=B[:,:,p] @ S[:,n-p]\n",
    "    S[:,n]+=sigma_inn*np.random.randn(K,)"
   ],
   "metadata": {
    "collapsed": false
   }
  },
  {
   "cell_type": "code",
   "execution_count": 5,
   "outputs": [],
   "source": [
    "## simulate the observations\n",
    "A = np.random.rand(D,K)\n",
    "X = A@S + sigma_sensor*np.random.randn(D,N)"
   ],
   "metadata": {
    "collapsed": false
   }
  },
  {
   "cell_type": "code",
   "execution_count": 6,
   "outputs": [],
   "source": [
    "## center the data in X\n",
    "X = X - np.tile( np.mean(X, axis=1) , (N,1) ).T"
   ],
   "metadata": {
    "collapsed": false
   }
  },
  {
   "cell_type": "code",
   "execution_count": 7,
   "outputs": [],
   "source": [
    "## standardize the data in X\n",
    "X = X / np.tile( np.std(X, axis=1) , (N,1) ).T"
   ],
   "metadata": {
    "collapsed": false
   }
  },
  {
   "cell_type": "code",
   "execution_count": 8,
   "outputs": [],
   "source": [
    "# form a copy of X but with time reversed\n",
    "Xr = np.fliplr(X)"
   ],
   "metadata": {
    "collapsed": false
   }
  },
  {
   "cell_type": "code",
   "execution_count": 9,
   "outputs": [
    {
     "data": {
      "text/plain": "((5000, 4), (5000, 4))"
     },
     "execution_count": 9,
     "metadata": {},
     "output_type": "execute_result"
    }
   ],
   "source": [
    "# samples, then channels\n",
    "X = X.T\n",
    "Xr = Xr.T\n",
    "X.shape, Xr.shape"
   ],
   "metadata": {
    "collapsed": false
   }
  },
  {
   "cell_type": "markdown",
   "source": [
    "## Bring in synthetic VAR data"
   ],
   "metadata": {
    "collapsed": false
   }
  },
  {
   "cell_type": "code",
   "execution_count": 10,
   "outputs": [
    {
     "name": "stdout",
     "output_type": "stream",
     "text": [
      "1 0\n",
      "1 1\n",
      "1 2\n",
      "1 3\n",
      "1 4\n",
      "1 5\n",
      "1 6\n",
      "1 7\n",
      "1 8\n",
      "1 9\n",
      "1 10\n",
      "1 11\n",
      "1 12\n",
      "1 13\n",
      "1 14\n",
      "1 15\n",
      "1 16\n",
      "1 17\n",
      "1 18\n",
      "1 19\n",
      "1 20\n",
      "1 21\n",
      "1 22\n",
      "1 23\n",
      "1 24\n",
      "1 25\n",
      "1 26\n",
      "1 27\n",
      "1 28\n",
      "1 29\n",
      "1 30\n",
      "1 31\n",
      "1 32\n",
      "1 33\n",
      "1 34\n",
      "1 35\n",
      "1 36\n",
      "1 37\n",
      "1 38\n",
      "1 39\n",
      "1 40\n",
      "1 41\n",
      "1 42\n",
      "1 43\n",
      "1 44\n",
      "1 45\n",
      "1 46\n",
      "1 47\n",
      "1 48\n",
      "1 49\n",
      "1 50\n",
      "1 51\n",
      "1 52\n",
      "1 53\n",
      "1 54\n",
      "1 55\n",
      "1 56\n",
      "1 57\n",
      "1 58\n",
      "1 59\n",
      "1 60\n",
      "1 61\n",
      "1 62\n",
      "1 63\n",
      "1 64\n",
      "1 65\n",
      "1 66\n",
      "1 67\n",
      "1 68\n",
      "1 69\n",
      "1 70\n",
      "1 71\n",
      "1 72\n",
      "1 73\n",
      "1 74\n",
      "1 75\n",
      "1 76\n",
      "1 77\n",
      "1 78\n",
      "1 79\n",
      "1 80\n",
      "1 81\n",
      "1 82\n",
      "1 83\n",
      "1 84\n",
      "1 85\n",
      "1 86\n",
      "1 87\n",
      "1 88\n",
      "1 89\n",
      "1 90\n",
      "1 91\n",
      "1 92\n",
      "1 93\n",
      "1 94\n",
      "1 95\n",
      "1 96\n",
      "1 97\n",
      "1 98\n",
      "1 99\n",
      "1 100\n",
      "1 101\n",
      "1 102\n",
      "1 103\n",
      "1 104\n",
      "1 105\n",
      "1 106\n",
      "1 107\n",
      "1 108\n",
      "1 109\n",
      "1 110\n",
      "1 111\n",
      "1 112\n",
      "1 113\n",
      "1 114\n",
      "1 115\n",
      "1 116\n",
      "1 117\n",
      "1 118\n",
      "1 119\n",
      "1 120\n",
      "1 121\n",
      "1 122\n",
      "1 123\n",
      "1 124\n",
      "1 125\n",
      "1 126\n",
      "1 127\n",
      "1 128\n",
      "1 129\n",
      "1 130\n",
      "1 131\n",
      "1 132\n",
      "1 133\n",
      "1 134\n",
      "1 135\n",
      "1 136\n",
      "1 137\n",
      "1 138\n",
      "1 139\n",
      "1 140\n",
      "1 141\n",
      "1 142\n",
      "1 143\n",
      "1 144\n",
      "1 145\n",
      "1 146\n",
      "1 147\n",
      "1 148\n",
      "1 149\n",
      "1 150\n",
      "1 151\n",
      "1 152\n",
      "1 153\n",
      "1 154\n",
      "1 155\n",
      "1 156\n",
      "1 157\n",
      "1 158\n",
      "1 159\n",
      "1 160\n",
      "1 161\n",
      "1 162\n",
      "1 163\n",
      "1 164\n",
      "1 165\n",
      "1 166\n",
      "1 167\n",
      "1 168\n",
      "1 169\n",
      "1 170\n",
      "1 171\n",
      "1 172\n",
      "1 173\n",
      "1 174\n",
      "1 175\n",
      "1 176\n",
      "1 177\n",
      "1 178\n",
      "1 179\n",
      "1 180\n",
      "1 181\n",
      "1 182\n",
      "1 183\n",
      "1 184\n",
      "1 185\n",
      "1 186\n",
      "1 187\n",
      "1 188\n",
      "1 189\n",
      "1 190\n",
      "1 191\n",
      "1 192\n",
      "1 193\n",
      "1 194\n",
      "1 195\n",
      "1 196\n",
      "1 197\n",
      "1 198\n",
      "1 199\n",
      "1 200\n",
      "1 201\n",
      "1 202\n",
      "1 203\n",
      "1 204\n",
      "1 205\n",
      "1 206\n",
      "1 207\n",
      "1 208\n",
      "1 209\n",
      "1 210\n",
      "1 211\n",
      "1 212\n",
      "1 213\n",
      "1 214\n",
      "1 215\n",
      "1 216\n",
      "1 217\n",
      "1 218\n",
      "1 219\n",
      "1 220\n",
      "1 221\n",
      "1 222\n",
      "1 223\n",
      "1 224\n",
      "1 225\n",
      "1 226\n",
      "1 227\n",
      "1 228\n",
      "1 229\n",
      "1 230\n",
      "1 231\n",
      "1 232\n",
      "1 233\n",
      "1 234\n",
      "1 235\n",
      "1 236\n",
      "1 237\n",
      "1 238\n",
      "1 239\n",
      "1 240\n",
      "1 241\n",
      "1 242\n",
      "1 243\n",
      "1 244\n",
      "1 245\n",
      "1 246\n",
      "1 247\n",
      "1 248\n",
      "1 249\n",
      "1 250\n",
      "1 251\n",
      "1 252\n",
      "1 253\n",
      "1 254\n",
      "1 255\n",
      "1 256\n",
      "1 257\n",
      "1 258\n",
      "1 259\n",
      "1 260\n",
      "1 261\n",
      "1 262\n",
      "1 263\n",
      "1 264\n",
      "1 265\n",
      "1 266\n",
      "1 267\n",
      "1 268\n",
      "1 269\n",
      "1 270\n",
      "1 271\n",
      "1 272\n",
      "1 273\n",
      "1 274\n",
      "1 275\n",
      "1 276\n",
      "1 277\n",
      "1 278\n",
      "1 279\n",
      "1 280\n",
      "1 281\n",
      "1 282\n",
      "1 283\n",
      "1 284\n",
      "1 285\n",
      "1 286\n",
      "1 287\n",
      "1 288\n",
      "1 289\n",
      "1 290\n",
      "1 291\n",
      "1 292\n",
      "1 293\n",
      "1 294\n",
      "1 295\n",
      "1 296\n",
      "1 297\n",
      "1 298\n",
      "1 299\n",
      "Warning: did not converge in 300 iterations\n",
      "2 0\n",
      "2 1\n",
      "2 2\n",
      "2 3\n",
      "2 4\n",
      "2 5\n",
      "2 6\n",
      "2 7\n",
      "2 8\n",
      "2 9\n",
      "2 10\n",
      "2 11\n",
      "2 12\n",
      "2 13\n",
      "2 14\n",
      "2 15\n",
      "2 16\n",
      "2 17\n",
      "2 18\n",
      "2 19\n",
      "2 20\n",
      "2 21\n",
      "2 22\n",
      "2 23\n",
      "2 24\n",
      "2 25\n",
      "2 26\n",
      "2 27\n",
      "2 28\n",
      "2 29\n",
      "2 30\n",
      "2 31\n",
      "2 32\n",
      "2 33\n",
      "2 34\n",
      "2 35\n",
      "2 36\n",
      "2 37\n",
      "2 38\n",
      "2 39\n",
      "2 40\n",
      "2 41\n",
      "2 42\n",
      "2 43\n",
      "2 44\n",
      "2 45\n",
      "2 46\n",
      "2 47\n",
      "2 48\n",
      "2 49\n",
      "2 50\n",
      "2 51\n",
      "2 52\n",
      "2 53\n",
      "2 54\n",
      "2 55\n",
      "2 56\n",
      "2 57\n",
      "2 58\n",
      "2 59\n",
      "2 60\n",
      "2 61\n",
      "2 62\n",
      "2 63\n",
      "2 64\n",
      "2 65\n",
      "2 66\n",
      "2 67\n",
      "2 68\n",
      "2 69\n",
      "2 70\n",
      "2 71\n",
      "2 72\n",
      "2 73\n",
      "2 74\n",
      "2 75\n",
      "2 76\n",
      "2 77\n",
      "2 78\n",
      "2 79\n",
      "2 80\n",
      "2 81\n",
      "2 82\n",
      "2 83\n",
      "2 84\n",
      "2 85\n",
      "2 86\n",
      "2 87\n",
      "2 88\n",
      "2 89\n",
      "2 90\n",
      "2 91\n",
      "2 92\n",
      "2 93\n",
      "2 94\n",
      "2 95\n",
      "2 96\n",
      "2 97\n",
      "2 98\n",
      "2 99\n",
      "2 100\n",
      "2 101\n",
      "2 102\n",
      "2 103\n",
      "2 104\n",
      "2 105\n",
      "2 106\n",
      "2 107\n",
      "2 108\n",
      "2 109\n",
      "2 110\n",
      "2 111\n",
      "2 112\n",
      "2 113\n",
      "2 114\n",
      "2 115\n",
      "2 116\n",
      "2 117\n",
      "2 118\n",
      "2 119\n",
      "2 120\n",
      "2 121\n",
      "2 122\n",
      "2 123\n",
      "2 124\n",
      "2 125\n",
      "2 126\n",
      "2 127\n",
      "2 128\n",
      "2 129\n",
      "2 130\n",
      "2 131\n",
      "2 132\n",
      "2 133\n",
      "2 134\n",
      "2 135\n",
      "2 136\n",
      "2 137\n",
      "2 138\n",
      "2 139\n",
      "2 140\n",
      "2 141\n",
      "2 142\n",
      "2 143\n",
      "2 144\n",
      "2 145\n",
      "2 146\n",
      "2 147\n",
      "2 148\n",
      "2 149\n",
      "2 150\n",
      "2 151\n",
      "2 152\n",
      "2 153\n",
      "2 154\n",
      "2 155\n",
      "2 156\n",
      "2 157\n",
      "2 158\n",
      "2 159\n",
      "2 160\n",
      "2 161\n",
      "2 162\n",
      "2 163\n",
      "2 164\n",
      "2 165\n",
      "2 166\n",
      "2 167\n",
      "2 168\n",
      "2 169\n",
      "Converged in 169 iterations\n"
     ]
    }
   ],
   "source": [
    "results = {'data': X} # initialize results dictionary\n",
    "\n",
    "n_pairs = 2\n",
    "max_iters = 300\n",
    "opt_tol = 1e-6\n",
    "method=\"trust-constr\"\n",
    "\n",
    "# initialize v and w\n",
    "v = 0.001 * np.random.randn(D,)\n",
    "w = 0.001 * np.random.randn(D,)\n",
    "\n",
    "for p in range(1,n_pairs+1):\n",
    "\n",
    "    blkR1, Rtilde = gc_block_covariance(X,L) # forward time\n",
    "    blkR1r, Rtilder = gc_block_covariance(Xr,L) # reverse time\n",
    "\n",
    "    fval_v_last = np.inf\n",
    "    fval_w_last = np.inf\n",
    "\n",
    "    for iter in range(max_iters):\n",
    "\n",
    "            print(p, iter)\n",
    "\n",
    "            optres_v = minimize(gca_obj_v, 0.01*np.random.randn(D,), args=( (w, blkR1, Rtilde, blkR1r, Rtilder) ) ,  constraints=[scipy.optimize.NonlinearConstraint(unit_norm, 1, 1)])\n",
    "\n",
    "            v = optres_v.x\n",
    "            fval_v = optres_v.fun\n",
    "            del_fval_v = np.abs(fval_v_last - fval_v)\n",
    "            fval_v_last = fval_v\n",
    "\n",
    "            optres_w = minimize(gca_obj_w, 0.01*np.random.randn(D,), args=( (v, blkR1, Rtilde, blkR1r, Rtilder) ) , constraints=[scipy.optimize.NonlinearConstraint(unit_norm, 1, 1)])\n",
    "\n",
    "            w = optres_w.x\n",
    "            fval_w = optres_w.fun\n",
    "            del_fval_w = np.abs(fval_w_last - fval_w)\n",
    "            fval_w_last = fval_w\n",
    "\n",
    "            if del_fval_v < opt_tol and del_fval_w < opt_tol:\n",
    "                print(f\"Converged in {iter} iterations\")\n",
    "                break\n",
    "\n",
    "    if iter == max_iters-1:\n",
    "        print(f\"Warning: did not converge in {max_iters} iterations\")\n",
    "\n",
    "    # compute the driven signal\n",
    "    y_hat = X@w\n",
    "    z_hat = X@v\n",
    "\n",
    "    y_hat_og = results['data']@w\n",
    "    z_hat_og = results['data']@v\n",
    "\n",
    "    # form a convolution matrix from y_hat\n",
    "    convmat = scipy.linalg.convolution_matrix(y_hat, L, mode='full')[0:-L+1,:]\n",
    "\n",
    "    # add a column of ones to convmat\n",
    "    convmat = np.concatenate((convmat, np.ones((convmat.shape[0],1))), axis=1)\n",
    "\n",
    "    # regress out y_hat from x\n",
    "    X = X - convmat@np.linalg.pinv(convmat)@X\n",
    "    Xr = np.flipud(X)\n",
    "\n",
    "    # store results\n",
    "    results[p] = {'v': v, 'w': w,\n",
    "                  'y_hat': y_hat, 'z_hat': z_hat,\n",
    "                  'y_hat_og': y_hat_og, 'z_hat_og': z_hat_og,\n",
    "                  'optres_v': optres_v, 'optres_w': optres_w}\n"
   ],
   "metadata": {
    "collapsed": false,
    "ExecuteTime": {
     "end_time": "2023-12-02T21:42:51.172350Z",
     "start_time": "2023-12-02T21:42:29.102556Z"
    }
   }
  },
  {
   "cell_type": "code",
   "execution_count": 14,
   "outputs": [
    {
     "data": {
      "text/plain": "(array([[ 1.        , -0.99928025],\n        [-0.99928025,  1.        ]]),\n array([[1.        , 0.99968522],\n        [0.99968522, 1.        ]]))"
     },
     "execution_count": 14,
     "metadata": {},
     "output_type": "execute_result"
    }
   ],
   "source": [
    "np.corrcoef(results[1]['y_hat_og'],S[0,:]), np.corrcoef(results[1]['z_hat_og'],S[1,:])"
   ],
   "metadata": {
    "collapsed": false
   }
  },
  {
   "cell_type": "code",
   "execution_count": 16,
   "outputs": [
    {
     "data": {
      "text/plain": "(array([[1.        , 0.97801018],\n        [0.97801018, 1.        ]]),\n array([[ 1.        , -0.99444122],\n        [-0.99444122,  1.        ]]))"
     },
     "execution_count": 16,
     "metadata": {},
     "output_type": "execute_result"
    }
   ],
   "source": [
    "np.corrcoef(results[2]['y_hat_og'],S[1,:]), np.corrcoef(results[2]['z_hat'],S[2,:])"
   ],
   "metadata": {
    "collapsed": false
   }
  },
  {
   "cell_type": "code",
   "execution_count": 14,
   "outputs": [
    {
     "data": {
      "text/plain": "(array([-0.44518064, -0.31768936, -0.23376872]),\n array([-0.02091183,  0.31815172,  0.009271  ]),\n array([-0.13810383, -0.19190405,  0.03317367]),\n array([ 0.3841249 ,  0.19729592, -0.0235038 ]))"
     },
     "execution_count": 14,
     "metadata": {},
     "output_type": "execute_result"
    }
   ],
   "source": [
    "results[1]['w'].T@A, results[1]['v'].T@A, results[2]['w'].T@A, results[2]['v'].T@A,"
   ],
   "metadata": {
    "collapsed": false,
    "ExecuteTime": {
     "end_time": "2023-12-02T21:37:23.841374Z",
     "start_time": "2023-12-02T21:37:23.835418Z"
    }
   }
  },
  {
   "cell_type": "code",
   "execution_count": 11,
   "outputs": [
    {
     "data": {
      "text/plain": "array([[-0.11388443]])"
     },
     "execution_count": 11,
     "metadata": {},
     "output_type": "execute_result"
    }
   ],
   "source": [
    "#gca_obj(optres.x,blkR1,Rtilde,blkR1r,Rtilder)"
   ],
   "metadata": {
    "collapsed": false,
    "ExecuteTime": {
     "end_time": "2023-12-02T20:24:08.284426Z",
     "start_time": "2023-12-02T20:24:08.274695Z"
    }
   }
  },
  {
   "cell_type": "code",
   "execution_count": 12,
   "outputs": [],
   "source": [
    "#vstar=optres.x[0:D]\n",
    "#wstar=optres.x[D:2*D+1]"
   ],
   "metadata": {
    "collapsed": false,
    "ExecuteTime": {
     "end_time": "2023-12-02T20:24:11.305463Z",
     "start_time": "2023-12-02T20:24:11.295763Z"
    }
   }
  },
  {
   "cell_type": "code",
   "execution_count": 30,
   "outputs": [
    {
     "data": {
      "text/plain": "<StemContainer object of 3 artists>"
     },
     "execution_count": 30,
     "metadata": {},
     "output_type": "execute_result"
    },
    {
     "data": {
      "text/plain": "<Figure size 640x480 with 4 Axes>",
      "image/png": "[encoded data removed]"
     },
     "metadata": {},
     "output_type": "display_data"
    }
   ],
   "source": [
    "fig, ax = plt.subplots(2,2)\n",
    "ax[0,0].stem(vtrue)\n",
    "ax[0,1].stem(v)\n",
    "ax[1,0].stem(wtrue)\n",
    "ax[1,1].stem(w)"
   ],
   "metadata": {
    "collapsed": false,
    "ExecuteTime": {
     "end_time": "2023-12-02T20:40:06.995728Z",
     "start_time": "2023-12-02T20:40:06.828396Z"
    }
   }
  },
  {
   "cell_type": "code",
   "execution_count": 33,
   "outputs": [
    {
     "data": {
      "text/plain": "(array([-0.02084364, -0.00018972, -0.00039625]),\n array([1.00000000e+00, 2.45775074e-16, 2.26972804e-16]))"
     },
     "execution_count": 33,
     "metadata": {},
     "output_type": "execute_result"
    }
   ],
   "source": [
    "w.T@A, wtrue.T@A"
   ],
   "metadata": {
    "collapsed": false,
    "ExecuteTime": {
     "end_time": "2023-12-02T20:43:46.701057Z",
     "start_time": "2023-12-02T20:43:46.696680Z"
    }
   }
  },
  {
   "cell_type": "code",
   "execution_count": 34,
   "outputs": [
    {
     "data": {
      "text/plain": "(array([ 0.00127161, -0.03189154,  0.00136117]),\n array([ 1.18650568e-16,  1.00000000e+00, -1.48052910e-16]))"
     },
     "execution_count": 34,
     "metadata": {},
     "output_type": "execute_result"
    }
   ],
   "source": [
    "v.T@A, vtrue.T@A"
   ],
   "metadata": {
    "collapsed": false,
    "ExecuteTime": {
     "end_time": "2023-12-02T20:44:04.916924Z",
     "start_time": "2023-12-02T20:44:04.910848Z"
    }
   }
  },
  {
   "cell_type": "code",
   "execution_count": 12,
   "outputs": [
    {
     "data": {
      "text/plain": "<matplotlib.collections.PathCollection at 0x120cc0df0>"
     },
     "execution_count": 12,
     "metadata": {},
     "output_type": "execute_result"
    },
    {
     "data": {
      "text/plain": "<Figure size 1600x900 with 4 Axes>",
      "image/png": "[encoded data removed]"
     },
     "metadata": {},
     "output_type": "display_data"
    }
   ],
   "source": [
    "y_hat_1 = x@results[1]['w']\n",
    "z_hat_1 = x@results[1]['v']\n",
    "y_hat_2 = x@results[2]['w']\n",
    "z_hat_2 = x@results[2]['v']\n",
    "fig, ax = plt.subplots(2,2,figsize=(16,9))\n",
    "ax[0,0].scatter(s1,y_hat_1)\n",
    "ax[0,1].scatter(s2,z_hat_1)\n",
    "ax[1,0].scatter(s2,y_hat_2)\n",
    "ax[1,1].scatter(s3,z_hat_2)"
   ],
   "metadata": {
    "collapsed": false,
    "ExecuteTime": {
     "end_time": "2023-12-02T21:38:57.138553Z",
     "start_time": "2023-12-02T21:38:56.827135Z"
    }
   }
  },
  {
   "cell_type": "code",
   "execution_count": 70,
   "outputs": [
    {
     "data": {
      "text/plain": "(5000, 4)"
     },
     "execution_count": 70,
     "metadata": {},
     "output_type": "execute_result"
    }
   ],
   "source": [
    "convmat = scipy.linalg.convolution_matrix(y_hat, L, mode='full')[0:-L+1,:]\n",
    "# add a column of ones to convmat\n",
    "convmat = np.concatenate((convmat, np.ones((convmat.shape[0],1))), axis=1)\n",
    "convmat.shape"
   ],
   "metadata": {
    "collapsed": false,
    "ExecuteTime": {
     "end_time": "2023-12-02T21:22:34.825184Z",
     "start_time": "2023-12-02T21:22:34.819791Z"
    }
   }
  },
  {
   "cell_type": "code",
   "execution_count": 73,
   "outputs": [],
   "source": [
    "x_ = x - convmat@np.linalg.pinv(convmat)@x"
   ],
   "metadata": {
    "collapsed": false,
    "ExecuteTime": {
     "end_time": "2023-12-02T21:24:50.740510Z",
     "start_time": "2023-12-02T21:24:50.578200Z"
    }
   }
  },
  {
   "cell_type": "code",
   "execution_count": 76,
   "outputs": [
    {
     "data": {
      "text/plain": "((5000, 4), (5000,))"
     },
     "execution_count": 76,
     "metadata": {},
     "output_type": "execute_result"
    }
   ],
   "source": [
    "x_.shape, y_hat.shape"
   ],
   "metadata": {
    "collapsed": false,
    "ExecuteTime": {
     "end_time": "2023-12-02T21:25:23.837370Z",
     "start_time": "2023-12-02T21:25:23.819662Z"
    }
   }
  },
  {
   "cell_type": "code",
   "execution_count": 82,
   "outputs": [
    {
     "data": {
      "text/plain": "(array([[1.00000000e+00, 1.75269571e-16],\n        [1.75269571e-16, 1.00000000e+00]]),\n array([[ 1.        , -0.06575996],\n        [-0.06575996,  1.        ]]))"
     },
     "execution_count": 82,
     "metadata": {},
     "output_type": "execute_result"
    }
   ],
   "source": [
    "np.corrcoef( np.squeeze(x_[:,0]), y_hat), np.corrcoef( np.squeeze(x[:,0]), y_hat)"
   ],
   "metadata": {
    "collapsed": false,
    "ExecuteTime": {
     "end_time": "2023-12-02T21:26:41.088587Z",
     "start_time": "2023-12-02T21:26:41.083184Z"
    }
   }
  },
  {
   "cell_type": "code",
   "execution_count": 83,
   "outputs": [
    {
     "data": {
      "text/plain": "array([3, 1, 2])"
     },
     "execution_count": 83,
     "metadata": {},
     "output_type": "execute_result"
    }
   ],
   "source": [
    "np.roll([1,2,3],1)"
   ],
   "metadata": {
    "collapsed": false,
    "ExecuteTime": {
     "end_time": "2023-12-02T21:27:08.528836Z",
     "start_time": "2023-12-02T21:27:08.524498Z"
    }
   }
  },
  {
   "cell_type": "code",
   "execution_count": 96,
   "outputs": [
    {
     "data": {
      "text/plain": "(array([[1.00000000e+00, 5.96377947e-05],\n        [5.96377947e-05, 1.00000000e+00]]),\n array([[1.        , 0.00634173],\n        [0.00634173, 1.        ]]))"
     },
     "execution_count": 96,
     "metadata": {},
     "output_type": "execute_result"
    }
   ],
   "source": [
    "np.corrcoef( np.squeeze(x_[:,0]), np.roll(y_hat,2)), np.corrcoef( np.squeeze(x[:,0]), np.roll(y_hat,2))"
   ],
   "metadata": {
    "collapsed": false,
    "ExecuteTime": {
     "end_time": "2023-12-02T21:29:27.149702Z",
     "start_time": "2023-12-02T21:29:27.143408Z"
    }
   }
  },
  {
   "cell_type": "code",
   "execution_count": 94,
   "outputs": [
    {
     "data": {
      "text/plain": "(array([[ 0.00105661,  0.        ,  0.        ,  1.        ],\n        [ 0.00554403,  0.00105661,  0.        ,  1.        ],\n        [-0.00182125,  0.00554403,  0.00105661,  1.        ],\n        [ 0.01118145, -0.00182125,  0.00554403,  1.        ],\n        [ 0.01582905,  0.01118145, -0.00182125,  1.        ]]),\n array([ 0.00105661,  0.00554403, -0.00182125,  0.01118145,  0.01582905]),\n (5000, 4),\n (5000,))"
     },
     "execution_count": 94,
     "metadata": {},
     "output_type": "execute_result"
    }
   ],
   "source": [
    "convmat[0:5,:], y_hat[0:5], x.shape, y_hat.shape"
   ],
   "metadata": {
    "collapsed": false,
    "ExecuteTime": {
     "end_time": "2023-12-02T21:29:06.791299Z",
     "start_time": "2023-12-02T21:29:06.784955Z"
    }
   }
  },
  {
   "cell_type": "markdown",
   "source": [
    "Code for generating VAR data is below"
   ],
   "metadata": {
    "collapsed": false
   }
  },
  {
   "cell_type": "code",
   "execution_count": 13,
   "outputs": [],
   "source": [
    "#B = np.array([[0.9, 0], [-0.2, 0.8]])\n",
    "\n",
    "#D=x.shape[0] # of sensors\n",
    "#M=2 # of sources\n",
    "#L=1 # max lag of AR model\n",
    "#T=50000 # of time samples\n",
    "#noisepwr=1\n",
    "#A = np.random.rand(D,M) # mixing matrix\n",
    "#sensornoisepwr=0.1\n",
    "\n",
    "# latent sources\n",
    "#s = np.zeros(shape=(M,T))\n",
    "#s[:,0:L] = np.random.randn(M,L)\n",
    "#sinn = noisepwr*np.random.randn(M,T)"
   ],
   "metadata": {
    "collapsed": false
   }
  },
  {
   "cell_type": "code",
   "execution_count": 14,
   "outputs": [],
   "source": [
    "#for t in range(L,T):\n",
    "#    s[:,t] = B@s[:,t-1] + sinn[:,t]\n",
    "#x = A@s + sensornoisepwr*np.random.randn(D,T)"
   ],
   "metadata": {
    "collapsed": false
   }
  },
  {
   "cell_type": "markdown",
   "source": [
    "## Evaluate GCA objective with ground-truth spatial filters\n",
    "s1 is the driving signal (recovered by wtrue)\n",
    "s2 is the driven signal (recovered by vtrue)"
   ],
   "metadata": {
    "collapsed": false
   }
  },
  {
   "cell_type": "code",
   "execution_count": 19,
   "outputs": [],
   "source": [
    "#pinvA=np.linalg.pinv(A.T)\n",
    "#wtrue=pinvA[:,0]\n",
    "#vtrue=pinvA[:,1]\n",
    "#x_gt=np.concatenate( ( vtrue , wtrue ) ,axis=0 )\n",
    "#gca_obj(x_gt, blkR1, Rtilde, blkR1r, Rtilder)"
   ],
   "metadata": {
    "collapsed": false
   }
  },
  {
   "cell_type": "code",
   "execution_count": 2,
   "outputs": [],
   "source": [
    "x = scipy.io.loadmat('../Xtest3.mat')['x']\n",
    "\n",
    "# mean center x\n",
    "x = x - np.mean(x, axis=0)\n",
    "\n",
    "# standardize x\n",
    "x = x / np.std(x, axis=0)\n",
    "\n",
    "xog = x.copy()\n",
    "stats = scipy.io.loadmat('../Xtest3.mat')['stats']\n",
    "xr = np.flipud(x)\n",
    "\n",
    "A = stats['A'][0][0]\n",
    "D=4\n",
    "L=3\n",
    "\n",
    "s1=stats['S'][0][0][0,:]\n",
    "s2=stats['S'][0][0][1,:]\n",
    "s3=stats['S'][0][0][2,:]"
   ],
   "metadata": {
    "collapsed": false
   }
  }
 ],
 "metadata": {
  "kernelspec": {
   "display_name": "Python 3",
   "language": "python",
   "name": "python3"
  },
  "language_info": {
   "codemirror_mode": {
    "name": "ipython",
    "version": 2
   },
   "file_extension": ".py",
   "mimetype": "text/x-python",
   "name": "python",
   "nbconvert_exporter": "python",
   "pygments_lexer": "ipython2",
   "version": "2.7.6"
  }
 },
 "nbformat": 4,
 "nbformat_minor": 0
}
