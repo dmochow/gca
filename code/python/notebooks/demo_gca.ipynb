{
 "cells": [
  {
   "cell_type": "code",
   "execution_count": 1,
   "outputs": [],
   "source": [
    "import numpy as np\n",
    "import scipy.optimize\n",
    "from scipy.optimize import minimize, NonlinearConstraint\n",
    "import matplotlib.pyplot as plt\n",
    "from gca import gc_block_covariance, gca_obj_v, gca_obj_w, unit_norm"
   ],
   "metadata": {
    "collapsed": false,
    "ExecuteTime": {
     "end_time": "2023-12-02T21:39:56.738667Z",
     "start_time": "2023-12-02T21:39:56.381509Z"
    }
   }
  },
  {
   "cell_type": "markdown",
   "source": [
    "## Set random number generation seed"
   ],
   "metadata": {
    "collapsed": false
   }
  },
  {
   "cell_type": "code",
   "execution_count": 2,
   "outputs": [],
   "source": [
    "np.random.seed(0)"
   ],
   "metadata": {
    "collapsed": false
   }
  },
  {
   "cell_type": "markdown",
   "source": [
    "## Generate VAR process"
   ],
   "metadata": {
    "collapsed": false
   }
  },
  {
   "cell_type": "code",
   "execution_count": 3,
   "outputs": [],
   "source": [
    "L=3 # VAR model order\n",
    "P=2 # number of pairs that we will ask GCA to compute\n",
    "K=3 # number of latent sources\n",
    "D=4 # number of sensors\n",
    "N=5000 # number of time points\n",
    "sigma_inn=1 # standard deviation of innovation process\n",
    "sigma_sensor=0.01 # standard deviation of additive noise"
   ],
   "metadata": {
    "collapsed": false
   }
  },
  {
   "cell_type": "markdown",
   "source": [
    "## Define VAR matrix of latent sources\n",
    "- We have s1-->s2 and s2-->s3"
   ],
   "metadata": {
    "collapsed": false
   }
  },
  {
   "cell_type": "code",
   "execution_count": 4,
   "outputs": [],
   "source": [
    "r1=0.9\n",
    "theta1=40/120*2*np.pi\n",
    "r2=0.7\n",
    "theta2=10/120*2*np.pi\n",
    "r3=0.8\n",
    "theta3=50/120*2*np.pi\n",
    "\n",
    "B = np.zeros(shape=(K,K,L))\n",
    "\n",
    "#create the VAR system matrix here\n",
    "B[:,:,0] = [ [2*r1*np.cos(theta1), 0, 0], [-0.356, 2*r2*np.cos(theta2), 0], [0, -0.3098, 2*r3*np.cos(theta3)] ]\n",
    "B[:,:,1]= [ [-r1**2, 0, 0], [0.7136, -r2**2, 0], [0, 0.5, -r3**2] ]\n",
    "B[:,:,2] = [ [0, 0, 0], [-0.356, 0, 0], [0, -0.3098, 0] ]"
   ],
   "metadata": {
    "collapsed": false
   }
  },
  {
   "cell_type": "markdown",
   "source": [
    "## Generate the dynamics of the latent sources"
   ],
   "metadata": {
    "collapsed": false
   }
  },
  {
   "cell_type": "code",
   "execution_count": 5,
   "outputs": [],
   "source": [
    "S = np.zeros(shape=(K,N))\n",
    "S[:,0:L] = np.random.randn(K,L)\n",
    "for n in range(L,N):\n",
    "    for p in range(0,L):\n",
    "        S[:,n]=B[:,:,p] @ S[:,n-p]\n",
    "    S[:,n]+=sigma_inn*np.random.randn(K,)"
   ],
   "metadata": {
    "collapsed": false
   }
  },
  {
   "cell_type": "markdown",
   "source": [
    "## Simulate the observations"
   ],
   "metadata": {
    "collapsed": false
   }
  },
  {
   "cell_type": "code",
   "execution_count": 6,
   "outputs": [],
   "source": [
    "A = np.random.rand(D,K)\n",
    "X = A@S + sigma_sensor*np.random.randn(D,N)"
   ],
   "metadata": {
    "collapsed": false
   }
  },
  {
   "cell_type": "markdown",
   "source": [
    "## Center the data in X"
   ],
   "metadata": {
    "collapsed": false
   }
  },
  {
   "cell_type": "code",
   "execution_count": 7,
   "outputs": [],
   "source": [
    "X = X - np.tile( np.mean(X, axis=1) , (N,1) ).T"
   ],
   "metadata": {
    "collapsed": false
   }
  },
  {
   "cell_type": "markdown",
   "source": [
    "## Standardize the data in X"
   ],
   "metadata": {
    "collapsed": false
   }
  },
  {
   "cell_type": "code",
   "execution_count": 8,
   "outputs": [],
   "source": [
    "X = X / np.tile( np.std(X, axis=1) , (N,1) ).T"
   ],
   "metadata": {
    "collapsed": false
   }
  },
  {
   "cell_type": "markdown",
   "source": [
    "## Form a copy of X but with time reversed"
   ],
   "metadata": {
    "collapsed": false
   }
  },
  {
   "cell_type": "code",
   "execution_count": 9,
   "outputs": [],
   "source": [
    "Xr = np.fliplr(X)"
   ],
   "metadata": {
    "collapsed": false
   }
  },
  {
   "cell_type": "markdown",
   "source": [
    "## Transpose to (samples, channels)"
   ],
   "metadata": {
    "collapsed": false
   }
  },
  {
   "cell_type": "code",
   "execution_count": 10,
   "outputs": [
    {
     "data": {
      "text/plain": "((5000, 4), (5000, 4))"
     },
     "execution_count": 10,
     "metadata": {},
     "output_type": "execute_result"
    }
   ],
   "source": [
    "X = X.T\n",
    "Xr = Xr.T\n",
    "X.shape, Xr.shape"
   ],
   "metadata": {
    "collapsed": false
   }
  },
  {
   "cell_type": "markdown",
   "source": [
    "## Run the GCA algorithm"
   ],
   "metadata": {
    "collapsed": false
   }
  },
  {
   "cell_type": "code",
   "execution_count": 11,
   "outputs": [
    {
     "name": "stdout",
     "output_type": "stream",
     "text": [
      "1 0\n"
     ]
    },
    {
     "name": "stderr",
     "output_type": "stream",
     "text": [
      "/Users/jacekdmochowski/miniconda3/envs/james_tf/lib/python3.10/site-packages/scipy/optimize/_hessian_update_strategy.py:182: UserWarning: delta_grad == 0.0. Check if the approximated function is linear. If the function is linear better results can be obtained by defining the Hessian as zero instead of using quasi-Newton approximations.\n",
      "  warn('delta_grad == 0.0. Check if the approximated '\n"
     ]
    },
    {
     "name": "stdout",
     "output_type": "stream",
     "text": [
      "1 1\n",
      "1 2\n",
      "1 3\n",
      "1 4\n",
      "1 5\n",
      "1 6\n",
      "Converged in 6 iterations\n",
      "2 0\n",
      "2 1\n",
      "2 2\n",
      "2 3\n",
      "Converged in 3 iterations\n"
     ]
    }
   ],
   "source": [
    "results = {'data': X} # initialize results dictionary\n",
    "\n",
    "n_pairs = 2\n",
    "max_iters = 300\n",
    "opt_tol = 1e-6\n",
    "method=\"trust-constr\"\n",
    "\n",
    "# initialize v and w\n",
    "vo = 0.01 * np.random.randn(D,)\n",
    "wo = 0.01 * np.random.randn(D,)\n",
    "\n",
    "for p in range(1,n_pairs+1):\n",
    "\n",
    "    v = vo.copy()\n",
    "    w = wo.copy()\n",
    "\n",
    "    blkR1, Rtilde = gc_block_covariance(X,L) # forward time\n",
    "    blkR1r, Rtilder = gc_block_covariance(Xr,L) # reverse time\n",
    "\n",
    "    fval_v_last = np.inf\n",
    "    fval_w_last = np.inf\n",
    "\n",
    "    for iter in range(max_iters):\n",
    "\n",
    "            print(p, iter)\n",
    "\n",
    "            optres_v = minimize(gca_obj_v, vo, args=( (w, blkR1, Rtilde, blkR1r, Rtilder) ) , constraints=[scipy.optimize.NonlinearConstraint(unit_norm, 0, 0)], method=method, tol = 1e-6)\n",
    "\n",
    "            v = optres_v.x\n",
    "            fval_v = optres_v.fun\n",
    "            del_fval_v = np.abs(fval_v_last - fval_v)\n",
    "            fval_v_last = fval_v\n",
    "\n",
    "            optres_w = minimize(gca_obj_w, wo, args=( (v, blkR1, Rtilde, blkR1r, Rtilder) ) , constraints=[scipy.optimize.NonlinearConstraint(unit_norm, 0, 0)], method=method, tol=1e-6)\n",
    "\n",
    "            w = optres_w.x\n",
    "            fval_w = optres_w.fun\n",
    "            del_fval_w = np.abs(fval_w_last - fval_w)\n",
    "            fval_w_last = fval_w\n",
    "\n",
    "            if del_fval_v < opt_tol and del_fval_w < opt_tol:\n",
    "                print(f\"Converged in {iter} iterations\")\n",
    "                break\n",
    "\n",
    "    if iter == max_iters-1:\n",
    "        print(f\"Warning: did not converge in {max_iters} iterations\")\n",
    "\n",
    "    # compute the driven and driving signals\n",
    "    y_hat = X@w\n",
    "    z_hat = X@v\n",
    "\n",
    "    # driven and driving signals with the original data\n",
    "    y_hat_og = results['data']@w\n",
    "    z_hat_og = results['data']@v\n",
    "\n",
    "    # form a convolution matrix from y_hat\n",
    "    convmat = scipy.linalg.convolution_matrix(y_hat, L, mode='full')[0:-L+1,:]\n",
    "\n",
    "    # add a column of ones to convmat\n",
    "    convmat = np.concatenate((convmat, np.ones((convmat.shape[0],1))), axis=1)\n",
    "\n",
    "    # regress out y_hat from x\n",
    "    X = X - convmat@np.linalg.pinv(convmat)@X\n",
    "    Xr = np.flipud(X)\n",
    "\n",
    "    # store results\n",
    "    results[p] = {'v': v, 'w': w,\n",
    "                  'y_hat': y_hat, 'z_hat': z_hat,\n",
    "                  'y_hat_og': y_hat_og, 'z_hat_og': z_hat_og,\n",
    "                  'optres_v': optres_v, 'optres_w': optres_w}\n"
   ],
   "metadata": {
    "collapsed": false,
    "ExecuteTime": {
     "end_time": "2023-12-02T21:42:51.172350Z",
     "start_time": "2023-12-02T21:42:29.102556Z"
    }
   }
  },
  {
   "cell_type": "markdown",
   "source": [
    "## Display the original and recovered sources"
   ],
   "metadata": {
    "collapsed": false
   }
  },
  {
   "cell_type": "code",
   "execution_count": 13,
   "outputs": [
    {
     "data": {
      "text/plain": "Text(0.5, 1.0, 'z2 vs. s3')"
     },
     "execution_count": 13,
     "metadata": {},
     "output_type": "execute_result"
    },
    {
     "data": {
      "text/plain": "<Figure size 800x800 with 4 Axes>",
      "image/png": "[encoded data removed]"
     },
     "metadata": {},
     "output_type": "display_data"
    }
   ],
   "source": [
    "fig, ax = plt.subplots(2,2,figsize=(8,8))\n",
    "ax[0,0].scatter(S[0,:],results[1]['y_hat_og'])\n",
    "ax[0,0].set_title(\"y1 vs. s1\")\n",
    "ax[0,1].scatter(S[1,:],results[1]['z_hat_og'])\n",
    "ax[0,1].set_title(\"z1 vs. s2\")\n",
    "ax[1,0].scatter(S[1,:],results[2]['y_hat_og'])\n",
    "ax[1,0].set_title(\"y2 vs. s2\")\n",
    "ax[1,1].scatter(S[2,:],results[2]['z_hat_og'])\n",
    "ax[1,1].set_title(\"z2 vs. s3\")\n"
   ],
   "metadata": {
    "collapsed": false
   }
  }
 ],
 "metadata": {
  "kernelspec": {
   "display_name": "Python 3",
   "language": "python",
   "name": "python3"
  },
  "language_info": {
   "codemirror_mode": {
    "name": "ipython",
    "version": 2
   },
   "file_extension": ".py",
   "mimetype": "text/x-python",
   "name": "python",
   "nbconvert_exporter": "python",
   "pygments_lexer": "ipython2",
   "version": "2.7.6"
  }
 },
 "nbformat": 4,
 "nbformat_minor": 0
}
